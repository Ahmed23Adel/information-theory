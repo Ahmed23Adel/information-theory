{
  "nbformat": 4,
  "nbformat_minor": 0,
  "metadata": {
    "colab": {
      "provenance": []
    },
    "kernelspec": {
      "name": "python3",
      "display_name": "Python 3"
    },
    "language_info": {
      "name": "python"
    }
  },
  "cells": [
    {
      "cell_type": "markdown",
      "source": [
        "# 0.0  Arithmatic encoding:: Introduction\n",
        "\n",
        "<img src = \"https://www.researchgate.net/profile/Mahnaz-Sinaie/publication/47696414/figure/fig2/AS:667822808121349@1536232773304/An-example-of-arithmetic-coding-the-source-symbols-are-a-b-c-with-pa-0011-pb.png\" width=\"400px\" align=\"right\">\n",
        "\n",
        "Arithmatic encoding is used mainly for encoding stream of bits, without the need to encode a complete bunch of of all combinations of N bits. It depends on the idea that stream of bits that has low probability of occurance, will hav greater number of bits, and high frequency stream will small number of bits"
      ],
      "metadata": {
        "id": "fmLd-VU3B_I3"
      }
    },
    {
      "cell_type": "markdown",
      "source": [
        "# Visualizer\n",
        "\n",
        "for visualising the list probabilites, **please ignore it**; not relavant to the arithmatic encding"
      ],
      "metadata": {
        "id": "c9AWfAJluLF3"
      }
    },
    {
      "cell_type": "code",
      "source": [
        "import copy"
      ],
      "metadata": {
        "id": "GzOCPcfivej9"
      },
      "execution_count": null,
      "outputs": []
    },
    {
      "cell_type": "code",
      "source": [
        "def visulize_probs(probs: list) -> None:\n",
        "  print(\"*\"*20)\n",
        "  probs_new = copy.deepcopy(probs)[::-1]\n",
        "  max_length = 10\n",
        "  for i,p in enumerate(probs_new) :\n",
        "    print(\"*{:.4f}\".format(p))\n",
        "    if i+1 == len(probs_new):\n",
        "      break\n",
        "    print(\"|\\n\"*(max(1, int(max_length*((probs_new[i]-probs_new[i+1])/(probs_new[0]-probs_new[-1]))))))\n",
        "  print(\"*\"*20)"
      ],
      "metadata": {
        "id": "4qSbkqh1uMNQ"
      },
      "execution_count": null,
      "outputs": []
    },
    {
      "cell_type": "markdown",
      "source": [
        "# 1.0 Encoder\n",
        "To encode:\n",
        "1. Get Lower(L) and Higher(H) probability bounds of the stream\n",
        "2. split probabilities (add more bits) untill:\n",
        "\n",
        "L<= m1\n",
        "\n",
        "H> m2\n",
        " where \n",
        "\n",
        " \n",
        "$\n",
        " *-----------------*m2 \\\\\n",
        " |\\hspace{9cm}      |\\\\\n",
        " *-----------------*m1\\\\\n",
        " |\\hspace{9cm}      |\\\\\n",
        " *------------------* \\\\\n",
        " $"
      ],
      "metadata": {
        "id": "dF7VbnmwCk0h"
      }
    },
    {
      "cell_type": "markdown",
      "source": [
        " First step in Arthmatic encoding is to split the whole range between 0, and 1 according to probabiliy of each symbol for example, if we have list of symbols of [['u', 'o', 'i', 'e', 'a'] of probabilities [0.07, 0.3, 0.09, 0.42, 0.12]\n",
        "\n",
        "*1\n",
        "\n",
        "|\n",
        "\n",
        "|\n",
        "\n",
        "*0.88\n",
        "\n",
        "|\n",
        "\n",
        "|\n",
        "*0.46\n",
        "\n",
        "|\n",
        "\n",
        "|\n",
        "\n",
        "*0.37\n",
        "\n",
        " |\n",
        "\n",
        " |\n",
        "\n",
        "*0.07\n",
        "\n",
        " |\n",
        "\n",
        " *0"
      ],
      "metadata": {
        "id": "LhpVSnLdr13F"
      }
    },
    {
      "cell_type": "code",
      "source": [
        "def accumulate_lst(symbols_probs: list, start_prob: float = 0, end_prob: float = 1, verbose = True)-> list:\n",
        "    \"\"\"\n",
        "    Accumulate the probabilites based on given on porbabilites of the symbols\n",
        "    Arguments:\n",
        "      symbols_probs(list): probability of each symbol\n",
        "      start_prob(float): bottom probabilty (intiallty is set to 0)\n",
        "      end_prob(float): upper probabilty (intiallty is set to 1)\n",
        "    \"\"\"\n",
        "    acc_probs = []\n",
        "    new_point = start_prob\n",
        "    acc_probs.append(start_prob) # adding bootom probability at the end of the acc_list(at first it should be zero)\n",
        "    for i in range(len(symbols_probs)): # accumulate probs\n",
        "      new_range = symbols_probs[i]*(end_prob-start_prob) # get the range of of symbol from given probability\n",
        "      new_point = new_point + new_range\n",
        "      acc_probs.append(new_point) ## append it to list\n",
        "    if verbose:\n",
        "      visulize_probs(acc_probs)\n",
        "    return acc_probs\n",
        "_ = accumulate_lst([0.07, 0.3, 0.09, 0.42, 0.12])"
      ],
      "metadata": {
        "colab": {
          "base_uri": "https://localhost:8080/"
        },
        "id": "F4VLpoGBE5QS",
        "outputId": "70387fb3-12b6-4152-f56a-298af5c24d3a"
      },
      "execution_count": null,
      "outputs": [
        {
          "output_type": "stream",
          "name": "stdout",
          "text": [
            "********************\n",
            "*1.0000\n",
            "|\n",
            "\n",
            "*0.8800\n",
            "|\n",
            "|\n",
            "|\n",
            "|\n",
            "\n",
            "*0.4600\n",
            "|\n",
            "\n",
            "*0.3700\n",
            "|\n",
            "|\n",
            "|\n",
            "\n",
            "*0.0700\n",
            "|\n",
            "\n",
            "*0.0000\n",
            "********************\n"
          ]
        }
      ]
    },
    {
      "cell_type": "markdown",
      "source": [
        "For a given stream of data like \"iou\", we must calculate range of probabilities it has to be in.\n",
        "\n",
        "for that to habben, for example inital distribution is as follows:\n",
        "*1\n",
        "\n",
        "|a\n",
        "\n",
        "*0.88\n",
        "\n",
        "|e\n",
        "\n",
        "*0.46\n",
        "\n",
        "|i\n",
        "\n",
        "*0.37\n",
        "\n",
        " |o\n",
        "\n",
        "\n",
        "*0.07\n",
        "\n",
        " |u\n",
        "\n",
        " *0\n",
        "\n",
        " and first letter is \"i\"\n",
        "*0.4600\n",
        "\n",
        "|\n",
        "\n",
        "*0.4492\n",
        "\n",
        "|\n",
        "\n",
        "*0.4114\n",
        "\n",
        "|\n",
        "\n",
        "*0.4033\n",
        "\n",
        "|\n",
        "\n",
        "*0.3763\n",
        "\n",
        "|\n",
        "\n",
        "*0.3700\n",
        "\n",
        "and so on"
      ],
      "metadata": {
        "id": "ROMCKu7_tAdG"
      }
    },
    {
      "cell_type": "code",
      "source": [
        "def get_bounds(word: str, symbols: list, probs: list, start_prob: float = 0, end_prob: float = 1, verbose = True):\n",
        "  if word == \"\":  \n",
        "    return start_prob, end_prob\n",
        "  first_char = word[0]\n",
        "  index_char = symbols.index(first_char)\n",
        "  acc_probs = accumulate_lst(probs, start_prob, end_prob, verbose = verbose  )\n",
        "  return get_bounds(word = word[1:], symbols = symbols, probs = probs, start_prob = acc_probs[index_char], end_prob = acc_probs[index_char+1], verbose = verbose)\n",
        "get_bounds(\"iou\", ['u', 'o', 'i', 'e', 'a'], [0.07, 0.3, 0.09, 0.42, 0.12] )"
      ],
      "metadata": {
        "colab": {
          "base_uri": "https://localhost:8080/"
        },
        "id": "SvpJF7HPtBpr",
        "outputId": "48b36418-9483-4db2-d474-fb97ef4101ae"
      },
      "execution_count": null,
      "outputs": [
        {
          "output_type": "stream",
          "name": "stdout",
          "text": [
            "********************\n",
            "*1.0000\n",
            "|\n",
            "\n",
            "*0.8800\n",
            "|\n",
            "|\n",
            "|\n",
            "|\n",
            "\n",
            "*0.4600\n",
            "|\n",
            "\n",
            "*0.3700\n",
            "|\n",
            "|\n",
            "|\n",
            "\n",
            "*0.0700\n",
            "|\n",
            "\n",
            "*0.0000\n",
            "********************\n",
            "********************\n",
            "*0.4600\n",
            "|\n",
            "\n",
            "*0.4492\n",
            "|\n",
            "|\n",
            "|\n",
            "|\n",
            "\n",
            "*0.4114\n",
            "|\n",
            "\n",
            "*0.4033\n",
            "|\n",
            "|\n",
            "\n",
            "*0.3763\n",
            "|\n",
            "\n",
            "*0.3700\n",
            "********************\n",
            "********************\n",
            "*0.4033\n",
            "|\n",
            "\n",
            "*0.4001\n",
            "|\n",
            "|\n",
            "|\n",
            "|\n",
            "\n",
            "*0.3887\n",
            "|\n",
            "\n",
            "*0.3863\n",
            "|\n",
            "|\n",
            "|\n",
            "\n",
            "*0.3782\n",
            "|\n",
            "\n",
            "*0.3763\n",
            "********************\n"
          ]
        },
        {
          "output_type": "execute_result",
          "data": {
            "text/plain": [
              "(0.37629999999999997, 0.37818999999999997)"
            ]
          },
          "metadata": {},
          "execution_count": 155
        }
      ]
    },
    {
      "cell_type": "markdown",
      "source": [
        "### Arithmatic encoding\n",
        "\n",
        "first for stream of data to fall in range these conditions must be satisfied\n",
        "\n",
        "L<= m1\n",
        "\n",
        "H> m2\n",
        " where \n",
        "\n",
        " \n",
        "$\n",
        " *-----------------*m2 \\\\\n",
        " |\\hspace{9cm}      |\\\\\n",
        " *-----------------*m1\\\\\n",
        " |\\hspace{9cm}      |\\\\\n",
        " *------------------* \\\\\n",
        " $"
      ],
      "metadata": {
        "id": "K8lP9NDS38_K"
      }
    },
    {
      "cell_type": "code",
      "source": [
        "def check(L,H, m1, m2):\n",
        "    return L <= m1 and H > m2"
      ],
      "metadata": {
        "id": "BjiHT3jq4Tg6"
      },
      "execution_count": null,
      "outputs": []
    },
    {
      "cell_type": "markdown",
      "source": [
        "For arithmatic encoding, I used recursion in the implmentation\n",
        "\n",
        "for example, stream is iou, and symbol probability is 0.37, and 0.42.\n",
        "1- first i split prbability between 0, 1,\n",
        "\n",
        "2- symbol prob is in the lower bound\n",
        "\n",
        "3- expand lower band by adding zeroa and i\n"
      ],
      "metadata": {
        "id": "OMMROAeJ4cL_"
      }
    },
    {
      "cell_type": "markdown",
      "source": [
        "For the"
      ],
      "metadata": {
        "id": "UAoxTA6TA08T"
      }
    },
    {
      "cell_type": "code",
      "source": [
        "L, H = get_bounds(\"iou\", ['u', 'o', 'i', 'e', 'a'], [0.07, 0.3, 0.09, 0.42, 0.12],verbose = True )"
      ],
      "metadata": {
        "id": "ZT8ZdlsQA0Na",
        "colab": {
          "base_uri": "https://localhost:8080/"
        },
        "outputId": "ea9fe3ba-7d10-46b0-e1b1-993c2cbdea4f"
      },
      "execution_count": null,
      "outputs": [
        {
          "output_type": "stream",
          "name": "stdout",
          "text": [
            "********************\n",
            "*1.0000\n",
            "|\n",
            "\n",
            "*0.8800\n",
            "|\n",
            "|\n",
            "|\n",
            "|\n",
            "\n",
            "*0.4600\n",
            "|\n",
            "\n",
            "*0.3700\n",
            "|\n",
            "|\n",
            "|\n",
            "\n",
            "*0.0700\n",
            "|\n",
            "\n",
            "*0.0000\n",
            "********************\n",
            "********************\n",
            "*0.4600\n",
            "|\n",
            "\n",
            "*0.4492\n",
            "|\n",
            "|\n",
            "|\n",
            "|\n",
            "\n",
            "*0.4114\n",
            "|\n",
            "\n",
            "*0.4033\n",
            "|\n",
            "|\n",
            "\n",
            "*0.3763\n",
            "|\n",
            "\n",
            "*0.3700\n",
            "********************\n",
            "********************\n",
            "*0.4033\n",
            "|\n",
            "\n",
            "*0.4001\n",
            "|\n",
            "|\n",
            "|\n",
            "|\n",
            "\n",
            "*0.3887\n",
            "|\n",
            "\n",
            "*0.3863\n",
            "|\n",
            "|\n",
            "|\n",
            "\n",
            "*0.3782\n",
            "|\n",
            "\n",
            "*0.3763\n",
            "********************\n"
          ]
        }
      ]
    },
    {
      "cell_type": "code",
      "source": [
        "def encode_arithmatic(L,H, bottom = 0 , upper = 1, code_down = \"0\", code_up = \"1\", verbose = True):\n",
        "    \"\"\"\n",
        "    L: Lower bound of stream\n",
        "    H: Higher bound of stream\n",
        "    bottom, upper, code_down, code_up: are used by recuresion, please don't use them\n",
        "    \"\"\"\n",
        "    middle = (bottom+upper)/2 # middle probabilty\n",
        "    if verbose: print(\"**************L= {:.4f},H= {:.4f} \\n|-------------|*{:.4f}\\n| {} |\\n|-------------|*{}\\n| {} |\\n|-------------|*{:.4f}\\n**************\".format(L,H,upper,code_up, middle,code_down,bottom))\n",
        "    if check(L, H, bottom, middle): # does stream reside in bottom band?\n",
        "      print(\"It's in the bottom at m1={}, and m2= {}, where the code is\".format(bottom,middle, code_down))\n",
        "      return code_down\n",
        "    if check(L, H, middle, upper): # does stream reside in upper band?\n",
        "      print(\"It's in the upper at m1={:.4f}, and m2= {:.4f}, where the code is {} \".format(middle,upper, code_down))\n",
        "      return code_up\n",
        "    if L >= middle: # if probabilty resided in bottom band, expand bottom, and let code down = code down + 0, same for up and append 1. and modify probability\n",
        "      print(\"Expand Bottom\\n\")\n",
        "      return encode_arithmatic(L, H, bottom = middle, upper = upper, code_down = code_up + \"0\", code_up = code_up + \"1\")\n",
        "    else:\n",
        "      print(\"Expand Upper\\n\")\n",
        "      return encode_arithmatic(L, H, bottom = bottom, upper = middle, code_down = code_down + \"0\", code_up = code_down + \"1\")\n",
        "\n",
        "\n",
        "\n",
        "\n",
        "_ = encode_arithmatic(L, H )"
      ],
      "metadata": {
        "id": "PNHBbOqImT_z",
        "colab": {
          "base_uri": "https://localhost:8080/"
        },
        "outputId": "4b83995b-67c9-44dd-94de-2ebf2ba37aac"
      },
      "execution_count": null,
      "outputs": [
        {
          "output_type": "stream",
          "name": "stdout",
          "text": [
            "**************L= 0.3763,H= 0.3782 \n",
            "|-------------|*1.0000\n",
            "| 1 |\n",
            "|-------------|*0.5\n",
            "| 0 |\n",
            "|-------------|*0.0000\n",
            "**************\n",
            "Expand Upper\n",
            "\n",
            "**************L= 0.3763,H= 0.3782 \n",
            "|-------------|*0.5000\n",
            "| 01 |\n",
            "|-------------|*0.25\n",
            "| 00 |\n",
            "|-------------|*0.0000\n",
            "**************\n",
            "Expand Bottom\n",
            "\n",
            "**************L= 0.3763,H= 0.3782 \n",
            "|-------------|*0.5000\n",
            "| 011 |\n",
            "|-------------|*0.375\n",
            "| 010 |\n",
            "|-------------|*0.2500\n",
            "**************\n",
            "Expand Bottom\n",
            "\n",
            "**************L= 0.3763,H= 0.3782 \n",
            "|-------------|*0.5000\n",
            "| 0111 |\n",
            "|-------------|*0.4375\n",
            "| 0110 |\n",
            "|-------------|*0.3750\n",
            "**************\n",
            "Expand Upper\n",
            "\n",
            "**************L= 0.3763,H= 0.3782 \n",
            "|-------------|*0.4375\n",
            "| 01101 |\n",
            "|-------------|*0.40625\n",
            "| 01100 |\n",
            "|-------------|*0.3750\n",
            "**************\n",
            "Expand Upper\n",
            "\n",
            "**************L= 0.3763,H= 0.3782 \n",
            "|-------------|*0.4062\n",
            "| 011001 |\n",
            "|-------------|*0.390625\n",
            "| 011000 |\n",
            "|-------------|*0.3750\n",
            "**************\n",
            "Expand Upper\n",
            "\n",
            "**************L= 0.3763,H= 0.3782 \n",
            "|-------------|*0.3906\n",
            "| 0110001 |\n",
            "|-------------|*0.3828125\n",
            "| 0110000 |\n",
            "|-------------|*0.3750\n",
            "**************\n",
            "Expand Upper\n",
            "\n",
            "**************L= 0.3763,H= 0.3782 \n",
            "|-------------|*0.3828\n",
            "| 01100001 |\n",
            "|-------------|*0.37890625\n",
            "| 01100000 |\n",
            "|-------------|*0.3750\n",
            "**************\n",
            "Expand Upper\n",
            "\n",
            "**************L= 0.3763,H= 0.3782 \n",
            "|-------------|*0.3789\n",
            "| 011000001 |\n",
            "|-------------|*0.376953125\n",
            "| 011000000 |\n",
            "|-------------|*0.3750\n",
            "**************\n",
            "Expand Upper\n",
            "\n",
            "**************L= 0.3763,H= 0.3782 \n",
            "|-------------|*0.3770\n",
            "| 0110000001 |\n",
            "|-------------|*0.3759765625\n",
            "| 0110000000 |\n",
            "|-------------|*0.3750\n",
            "**************\n",
            "Expand Bottom\n",
            "\n",
            "**************L= 0.3763,H= 0.3782 \n",
            "|-------------|*0.3770\n",
            "| 01100000011 |\n",
            "|-------------|*0.37646484375\n",
            "| 01100000010 |\n",
            "|-------------|*0.3760\n",
            "**************\n",
            "It's in the upper at m1=0.3765, and m2= 0.3770, where the code is 01100000010 \n"
          ]
        }
      ]
    },
    {
      "cell_type": "markdown",
      "source": [
        "# Decoder\n",
        "\n",
        "you must specify number of symboles"
      ],
      "metadata": {
        "id": "qZ5ZaVQ18Gg-"
      }
    },
    {
      "cell_type": "code",
      "execution_count": null,
      "metadata": {
        "id": "BjJy_68rjgsp",
        "colab": {
          "base_uri": "https://localhost:8080/",
          "height": 1000
        },
        "outputId": "0f6a764f-d369-4c28-b408-654134cadb38"
      },
      "outputs": [
        {
          "output_type": "stream",
          "name": "stdout",
          "text": [
            "********************\n",
            "*1.0000\n",
            "|\n",
            "\n",
            "*0.8800\n",
            "|\n",
            "|\n",
            "|\n",
            "|\n",
            "\n",
            "*0.4600\n",
            "|\n",
            "\n",
            "*0.3700\n",
            "|\n",
            "|\n",
            "|\n",
            "\n",
            "*0.0700\n",
            "|\n",
            "\n",
            "*0.0000\n",
            "********************\n",
            "********************\n",
            "*0.4600\n",
            "|\n",
            "\n",
            "*0.4492\n",
            "|\n",
            "|\n",
            "|\n",
            "|\n",
            "\n",
            "*0.4114\n",
            "|\n",
            "\n",
            "*0.4033\n",
            "|\n",
            "|\n",
            "\n",
            "*0.3763\n",
            "|\n",
            "\n",
            "*0.3700\n",
            "********************\n",
            "********************\n",
            "*0.4033\n",
            "|\n",
            "\n",
            "*0.4001\n",
            "|\n",
            "|\n",
            "|\n",
            "|\n",
            "\n",
            "*0.3887\n",
            "|\n",
            "\n",
            "*0.3863\n",
            "|\n",
            "|\n",
            "|\n",
            "\n",
            "*0.3782\n",
            "|\n",
            "\n",
            "*0.3763\n",
            "********************\n"
          ]
        },
        {
          "output_type": "execute_result",
          "data": {
            "text/plain": [
              "'iou'"
            ],
            "application/vnd.google.colaboratory.intrinsic+json": {
              "type": "string"
            }
          },
          "metadata": {},
          "execution_count": 159
        }
      ],
      "source": [
        "def decode_arithmatic(code, symbols: list, probs: list,max_length, start_prob = 0 , end_prob = 1, output_char = \"\", ):\n",
        "  \"\"\"\n",
        "    code: code to decode\n",
        "    symbols: symbols that you have a probabiliy for\n",
        "    probs: probabiliy of each symbol\n",
        "    max: length: must be speicifed for decoding\n",
        "    start_prob, end_prob, output_char: used by recursion please don't use them\n",
        "\n",
        "  \"\"\"\n",
        "  if len(output_char) == max_length: # You must specify number of symbols\n",
        "    return output_char\n",
        "  prob = sum([2**(-(i+1)) for i in range(len(code)) if code[i] == \"1\"]) # converty binary code into fraction as probability\n",
        "  acc_probs = accumulate_lst(probs, start_prob, end_prob  ) # accumulate the probabilty for finding the range\n",
        "  index = 0\n",
        "  while True: # finding the range of probabilty for the symbol\n",
        "    if prob >= acc_probs[index] and prob < acc_probs[index+1]:\n",
        "      break\n",
        "    index += 1\n",
        "  output_char  =  output_char + symbols[index]\n",
        "  return decode_arithmatic(code, symbols = symbols, probs = probs,max_length = max_length, start_prob = acc_probs[index] , end_prob = acc_probs[index+1], output_char = output_char) # find next char\n",
        "  # print(prob, index, acc_probs)\n",
        "    \n",
        "    \n",
        "\n",
        "decode_arithmatic(\"01100000011\",['u', 'o', 'i', 'e', 'a'], [0.07, 0.3, 0.09, 0.42, 0.12],max_length =3)"
      ]
    },
    {
      "cell_type": "code",
      "source": [
        "_"
      ],
      "metadata": {
        "id": "Cxv3P2sxW4-4",
        "colab": {
          "base_uri": "https://localhost:8080/",
          "height": 35
        },
        "outputId": "ed780cba-7b6d-4f54-f4eb-219baf7de4af"
      },
      "execution_count": null,
      "outputs": [
        {
          "output_type": "execute_result",
          "data": {
            "text/plain": [
              "'01100000011'"
            ],
            "application/vnd.google.colaboratory.intrinsic+json": {
              "type": "string"
            }
          },
          "metadata": {},
          "execution_count": 160
        }
      ]
    }
  ]
}